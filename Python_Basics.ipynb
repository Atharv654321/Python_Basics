{
 "cells": [
  {
   "cell_type": "markdown",
   "id": "04904b99-d96a-4206-b129-763d9a29aaf0",
   "metadata": {},
   "source": [
    "1) What is Python, and why is it popular?\n",
    "- Python is a beginner-friendly, versatile programming language used for web development, data science, automation, AI, and more. It’s popular because     it’s easy to learn, has tons of useful libraries, and is backed by a massive global community.\n",
    "\n",
    "2) What is an interpreter in Python?\n",
    "- A Python interpreter executes code line by line, translating it into machine instructions as it runs, which helps catch errors quickly and makes Python  easy to test and debug.\n",
    "\n",
    "3) What are pre-defined keywords in Python?\n",
    "- Python's predefined keywords are built-in reserved words like if, else, for, def, and class that define how Python code works. You can't use them as variable names since they’re part of Python’s syntax rules.\n",
    "\n",
    "4) Can keywords be used as variable names?\n",
    "- No, Python keywords cannot be used as variable names because they have predefined roles in the language's syntax and logic.\n",
    "\n",
    "5) What is mutability in Python?\n",
    "- Mutability in Python means whether an object’s value can be changed after it’s created.\n",
    "\n",
    "6) Why are lists mutable, but tuples are immutable?\n",
    "- Lists are mutable because they’re designed for dynamic data—Python allows you to change, add, or remove items freely.\n",
    "  Tuples are immutable by design to ensure data integrity, making them safer and faster for fixed, unchangeable data structures\n",
    "\n",
    "7) What is the difference between == and is operators in Python?\n",
    "- (==) checks if the values are equal.  (is) checks if both variables point to the same object in memory. \n",
    "\n",
    "8) What are logical operators in Python?\n",
    "- Logical operators in Python help you make decisions:\n",
    "  and → True if both conditions are true\n",
    "  or → True if at least one condition is true\n",
    "  not → Reverses the condition (True becomes False)\n",
    "\n",
    "9) What is type casting in Python?\n",
    "- Type casting in Python means converting one data type into another—like turning an int into a float, or a string into an int.\n",
    "\n",
    "10) What is the difference between implicit and explicit type casting?\n",
    "- Implicit casting: Python does it automatically (e.g., int → float in math).\n",
    "  Explicit casting: You do it manually using functions like int(), float(), str().\n",
    "\n",
    "11) What is the purpose of conditional statements in Python?\n",
    "- Conditional statements in Python let your code make decisions based on certain conditions.\n",
    "\n",
    "12) How does the elif statement work?\n",
    "- elif lets you check extra conditions after an initial if.\n",
    " Python checks each condition in order:\n",
    " If if is False, it tries elif.\n",
    " If elif is True, that block runs.\n",
    " If all fail, it runs else (if present)\n",
    "\n",
    "13) What is the difference between for and while loops?\n",
    "- for loop → Used when you know how many times to repeat. Example: looping through items in a list.\n",
    "  while loop → Used when you don’t know how many times—just keep going as long as a condition is true\n",
    "\n",
    "14) Describe a scenario where a while loop is more suitable than a for loop.\n",
    "- Imagine you're building a script that keeps checking if a server is online. You don’t know how long the server will take, so a while loop is ideal.\n",
    "  A for loop wouldn’t work well here, because it’s built for a known number of repetitions. The while loop shines when the condition is unpredictable     and depends on real-time changes."
   ]
  },
  {
   "cell_type": "markdown",
   "id": "22efe97b-53a9-4a66-8a95-057205983398",
   "metadata": {},
   "source": [
    "# 1.Write a Python program to print \"Hello, World!\"\n"
   ]
  },
  {
   "cell_type": "code",
   "execution_count": 7,
   "id": "c6dd1d91-cb02-4e35-9029-d06e8029b957",
   "metadata": {},
   "outputs": [
    {
     "name": "stdout",
     "output_type": "stream",
     "text": [
      "Hello, World!\n"
     ]
    }
   ],
   "source": [
    "print(\"Hello, World!\")\n"
   ]
  },
  {
   "cell_type": "markdown",
   "id": "c76e2d2c-6d58-499e-b676-0929b8348327",
   "metadata": {},
   "source": [
    "# 2.Write a Python program that displays your name and age.\n"
   ]
  },
  {
   "cell_type": "code",
   "execution_count": 10,
   "id": "bdfe4bc1-a962-4d1d-8448-dcb1b7435deb",
   "metadata": {},
   "outputs": [
    {
     "name": "stdout",
     "output_type": "stream",
     "text": [
      "My name is Atharv Ramdham and I am 20 years old.\n"
     ]
    }
   ],
   "source": [
    "name = \"Atharv Ramdham\"\n",
    "age = 20\n",
    "print(f\"My name is {name} and I am {age} years old.\")\n"
   ]
  },
  {
   "cell_type": "markdown",
   "id": "1fb01cb6-da27-4082-a6ae-ee0bbea63750",
   "metadata": {},
   "source": [
    "# 3.Write code to print all the pre-defined keywords in Python using the keyword library.\n"
   ]
  },
  {
   "cell_type": "code",
   "execution_count": 18,
   "id": "3c48ff3d-6a7e-4d22-b488-bca96f1e7962",
   "metadata": {},
   "outputs": [
    {
     "name": "stdout",
     "output_type": "stream",
     "text": [
      "['False', 'None', 'True', 'and', 'as', 'assert', 'async', 'await', 'break', 'class', 'continue', 'def', 'del', 'elif', 'else', 'except', 'finally', 'for', 'from', 'global', 'if', 'import', 'in', 'is', 'lambda', 'nonlocal', 'not', 'or', 'pass', 'raise', 'return', 'try', 'while', 'with', 'yield']\n"
     ]
    }
   ],
   "source": [
    "import keyword\n",
    "print(keyword.kwlist)"
   ]
  },
  {
   "cell_type": "markdown",
   "id": "1641946a-efc3-4348-bd64-15979d082480",
   "metadata": {},
   "source": [
    "# 4.Write a program that checks if a given word is a Python keyword.\n"
   ]
  },
  {
   "cell_type": "code",
   "execution_count": 25,
   "id": "0ee6154e-38e0-4558-bed4-5184ca9e4f69",
   "metadata": {},
   "outputs": [
    {
     "name": "stdin",
     "output_type": "stream",
     "text": [
      "Enter a word:  as\n"
     ]
    },
    {
     "name": "stdout",
     "output_type": "stream",
     "text": [
      "'as' is a Python keyword.\n"
     ]
    }
   ],
   "source": [
    "import keyword\n",
    "\n",
    "word = input(\"Enter a word: \")\n",
    "if keyword.iskeyword(word):\n",
    "    print(f\"'{word}' is a Python keyword.\")\n",
    "else:\n",
    "    print(f\"'{word}' is NOT a Python keyword.\")\n"
   ]
  },
  {
   "cell_type": "markdown",
   "id": "e82e95f6-c3b6-43e5-9e89-04d78e53a1e8",
   "metadata": {},
   "source": [
    "# 5.Create a list and tuple in Python,and demonstrate how attempting to change an element works differently for each.\n"
   ]
  },
  {
   "cell_type": "code",
   "execution_count": 30,
   "id": "86906b51-5729-4c55-8fb7-97cc71a70bfc",
   "metadata": {},
   "outputs": [
    {
     "name": "stdout",
     "output_type": "stream",
     "text": [
      "Modified list: [10, 99, 30]\n"
     ]
    },
    {
     "ename": "TypeError",
     "evalue": "'tuple' object does not support item assignment",
     "output_type": "error",
     "traceback": [
      "\u001b[1;31m---------------------------------------------------------------------------\u001b[0m",
      "\u001b[1;31mTypeError\u001b[0m                                 Traceback (most recent call last)",
      "Cell \u001b[1;32mIn[30], line 7\u001b[0m\n\u001b[0;32m      4\u001b[0m my_list[\u001b[38;5;241m1\u001b[39m] \u001b[38;5;241m=\u001b[39m \u001b[38;5;241m99\u001b[39m    \n\u001b[0;32m      5\u001b[0m \u001b[38;5;28mprint\u001b[39m(\u001b[38;5;124m\"\u001b[39m\u001b[38;5;124mModified list:\u001b[39m\u001b[38;5;124m\"\u001b[39m, my_list)\n\u001b[1;32m----> 7\u001b[0m my_tuple[\u001b[38;5;241m1\u001b[39m] \u001b[38;5;241m=\u001b[39m \u001b[38;5;241m9\u001b[39m\n",
      "\u001b[1;31mTypeError\u001b[0m: 'tuple' object does not support item assignment"
     ]
    }
   ],
   "source": [
    "my_list = [10, 20, 30]\n",
    "my_tuple = (10, 20, 30)\n",
    "\n",
    "my_list[1] = 99    \n",
    "print(\"Modified list:\", my_list)\n",
    "\n",
    "my_tuple[1] = 9"
   ]
  },
  {
   "cell_type": "markdown",
   "id": "19bac3ba-bf59-463c-881b-8ca9c72d21aa",
   "metadata": {},
   "source": [
    "# 6.Write a function to demonstrate the behavior of mutable and immutable arguments.\n"
   ]
  },
  {
   "cell_type": "code",
   "execution_count": 43,
   "id": "de6d2959-7541-4d35-9b93-f3f43bda418f",
   "metadata": {},
   "outputs": [
    {
     "name": "stdout",
     "output_type": "stream",
     "text": [
      "List after function: [1, 2, 99]\n",
      "Number after function: 5\n"
     ]
    }
   ],
   "source": [
    "# Mutable\n",
    "my_list = [1, 2]\n",
    "my_list.append(99)\n",
    "print(\"List after function:\", my_list)\n",
    "\n",
    "# Immutable\n",
    "def change_number(num):\n",
    "    num += 10\n",
    "\n",
    "my_number = 5\n",
    "change_number(my_number)\n",
    "print(\"Number after function:\", my_number)"
   ]
  },
  {
   "cell_type": "markdown",
   "id": "50aff636-784e-4eb4-955a-f2dc7767fabc",
   "metadata": {},
   "source": [
    "# 7.Write a program that performs basic arithmetic operations on two user-input numbers.\n"
   ]
  },
  {
   "cell_type": "code",
   "execution_count": 49,
   "id": "55d05024-0ed5-4060-bc9c-be348364875f",
   "metadata": {},
   "outputs": [
    {
     "name": "stdin",
     "output_type": "stream",
     "text": [
      "Enter first number:  10\n",
      "Enter second number:  5\n"
     ]
    },
    {
     "name": "stdout",
     "output_type": "stream",
     "text": [
      "Addition: 15.0\n",
      "Subtraction: 5.0\n",
      "Multiplication: 50.0\n",
      "Division: 2.0\n"
     ]
    }
   ],
   "source": [
    "num1 = float(input(\"Enter first number: \"))\n",
    "num2 = float(input(\"Enter second number: \"))\n",
    "\n",
    "print(\"Addition:\", num1 + num2)\n",
    "print(\"Subtraction:\", num1 - num2)\n",
    "print(\"Multiplication:\", num1 * num2)\n",
    "print(\"Division:\", num1/num2)"
   ]
  },
  {
   "cell_type": "markdown",
   "id": "101b8a68-ff5e-4c64-9dac-2926181a0bc0",
   "metadata": {},
   "source": [
    "# 8.Write a program to demonstrate the use of logical operators.\n"
   ]
  },
  {
   "cell_type": "code",
   "execution_count": 52,
   "id": "e71397c7-8c91-4296-bd00-4a3d17a7dc95",
   "metadata": {},
   "outputs": [
    {
     "name": "stdout",
     "output_type": "stream",
     "text": [
      "False\n",
      "True\n",
      "False\n"
     ]
    }
   ],
   "source": [
    "a = True\n",
    "b = False\n",
    "\n",
    "print(a and b) \n",
    "print(a or b)   \n",
    "print(not a)    "
   ]
  },
  {
   "cell_type": "markdown",
   "id": "2af04bc4-b840-42ae-97d1-ada9f272abf7",
   "metadata": {},
   "source": [
    "# 9.Write a Python program to convert user input from string to integer, float, and boolean types.\n"
   ]
  },
  {
   "cell_type": "code",
   "execution_count": 59,
   "id": "00b7deb2-a72a-4042-8a36-4a26f3e47eb9",
   "metadata": {},
   "outputs": [
    {
     "name": "stdin",
     "output_type": "stream",
     "text": [
      "Enter Number:  4\n"
     ]
    },
    {
     "name": "stdout",
     "output_type": "stream",
     "text": [
      "4\n",
      "4.0\n",
      "True\n"
     ]
    }
   ],
   "source": [
    "a = input(\"Enter Number: \")\n",
    "\n",
    "print(int(a))    \n",
    "print(float(a))  \n",
    "print(bool(a))"
   ]
  },
  {
   "cell_type": "markdown",
   "id": "ad815ef7-bef1-49e5-ab51-7f5bdf0ca059",
   "metadata": {},
   "source": [
    "# 10.Write code to demonstrate type casting with list elements.\n"
   ]
  },
  {
   "cell_type": "code",
   "execution_count": 70,
   "id": "2a5032c8-0849-4b4d-9479-3d61580d13d7",
   "metadata": {},
   "outputs": [
    {
     "name": "stdout",
     "output_type": "stream",
     "text": [
      "int_list:[1, 2, 3]\n"
     ]
    }
   ],
   "source": [
    "str_list = [\"1\", \"2\", \"3\"]\n",
    "numbers = [int(x) for x in data]\n",
    "\n",
    "print(f\"int_list:{numbers}\")"
   ]
  },
  {
   "cell_type": "markdown",
   "id": "75d99269-284d-49ab-92cb-0815ef638faf",
   "metadata": {},
   "source": [
    "# 11.Write a program that checks if a number is positive, negative, or zero.\n"
   ]
  },
  {
   "cell_type": "code",
   "execution_count": 74,
   "id": "58f70265-648d-430c-ad27-6a3961ea0b04",
   "metadata": {},
   "outputs": [
    {
     "name": "stdin",
     "output_type": "stream",
     "text": [
      "Enter a number:  6\n"
     ]
    },
    {
     "name": "stdout",
     "output_type": "stream",
     "text": [
      "Positive\n"
     ]
    }
   ],
   "source": [
    "num = float(input(\"Enter a number: \"))\n",
    "\n",
    "if num > 0:\n",
    "    print(\"Positive\")\n",
    "elif num < 0:\n",
    "    print(\"Negative\")\n",
    "else:\n",
    "    print(\"Zero\")"
   ]
  },
  {
   "cell_type": "markdown",
   "id": "6c7e230d-ce4a-4590-94a6-e1b77bfa9b64",
   "metadata": {},
   "source": [
    "# 12.Write a for loop to print numbers from 1 to 10.\n"
   ]
  },
  {
   "cell_type": "code",
   "execution_count": 77,
   "id": "80d7bce3-6649-40cc-8c11-6b1bf162a995",
   "metadata": {},
   "outputs": [
    {
     "name": "stdout",
     "output_type": "stream",
     "text": [
      "1\n",
      "2\n",
      "3\n",
      "4\n",
      "5\n",
      "6\n",
      "7\n",
      "8\n",
      "9\n",
      "10\n"
     ]
    }
   ],
   "source": [
    "for i in range(1, 11):\n",
    "    print(i)"
   ]
  },
  {
   "cell_type": "markdown",
   "id": "aac58133-5a13-4cf1-a7ef-f67fda5f2a88",
   "metadata": {},
   "source": [
    "# 13.Write a Python program to find the sum of all even numbers between 1 and 50.\n"
   ]
  },
  {
   "cell_type": "code",
   "execution_count": 82,
   "id": "59d7a714-3194-4069-8346-706b3c0bb8ec",
   "metadata": {},
   "outputs": [
    {
     "name": "stdout",
     "output_type": "stream",
     "text": [
      "Sum of even numbers from 1 to 50: 650\n"
     ]
    }
   ],
   "source": [
    "sum = 0\n",
    "for i in range(1, 51):\n",
    "    if i % 2 == 0:\n",
    "        sum += i\n",
    "print(\"Sum of even numbers from 1 to 50:\", sum)"
   ]
  },
  {
   "cell_type": "markdown",
   "id": "cf2f8957-a9e7-44db-aec1-91e36541344f",
   "metadata": {},
   "source": [
    "# 14.Write a program to reverse a string using a while loop.\n"
   ]
  },
  {
   "cell_type": "code",
   "execution_count": 89,
   "id": "9f8e4cd6-7b63-4f4f-9af7-a48d50d11774",
   "metadata": {},
   "outputs": [
    {
     "name": "stdout",
     "output_type": "stream",
     "text": [
      "olleh\n"
     ]
    }
   ],
   "source": [
    "text = \"hello\"\n",
    "reversed_text = \"\"\n",
    "i = len(text) - 1\n",
    "\n",
    "while i >= 0:\n",
    "    reversed_text += text[i]\n",
    "    i -= 1\n",
    "\n",
    "print(reversed_text)"
   ]
  },
  {
   "cell_type": "markdown",
   "id": "de0c17fd-2913-4634-995a-9e48510ec5af",
   "metadata": {},
   "source": [
    "# 15.Write a Python program to calculate the factorial of a number provided by the user using a while loop.\n"
   ]
  },
  {
   "cell_type": "code",
   "execution_count": 98,
   "id": "72689963-a167-493d-a754-bb9396580b28",
   "metadata": {},
   "outputs": [
    {
     "name": "stdin",
     "output_type": "stream",
     "text": [
      "Enter a number:  5\n"
     ]
    },
    {
     "name": "stdout",
     "output_type": "stream",
     "text": [
      "Factorial of 5 is 120\n"
     ]
    }
   ],
   "source": [
    "num = int(input(\"Enter a number: \"))\n",
    "fact = 1\n",
    "i = 1\n",
    "\n",
    "while i <= num:\n",
    "    fact *= i\n",
    "    i += 1\n",
    "\n",
    "print(\"Factorial of\", num, \"is\", fact)"
   ]
  }
 ],
 "metadata": {
  "kernelspec": {
   "display_name": "Python 3 (ipykernel)",
   "language": "python",
   "name": "python3"
  },
  "language_info": {
   "codemirror_mode": {
    "name": "ipython",
    "version": 3
   },
   "file_extension": ".py",
   "mimetype": "text/x-python",
   "name": "python",
   "nbconvert_exporter": "python",
   "pygments_lexer": "ipython3",
   "version": "3.12.7"
  }
 },
 "nbformat": 4,
 "nbformat_minor": 5
}
